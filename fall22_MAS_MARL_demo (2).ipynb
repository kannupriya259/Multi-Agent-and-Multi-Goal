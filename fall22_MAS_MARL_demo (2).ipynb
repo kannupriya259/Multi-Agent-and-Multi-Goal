{
  "cells": [
    {
      "cell_type": "code",
      "execution_count": 2,
      "metadata": {
        "id": "NayuZ09kQv41"
      },
      "outputs": [
        {
          "ename": "ModuleNotFoundError",
          "evalue": "No module named 'numpy'",
          "output_type": "error",
          "traceback": [
            "\u001b[0;31m---------------------------------------------------------------------------\u001b[0m",
            "\u001b[0;31mModuleNotFoundError\u001b[0m                       Traceback (most recent call last)",
            "\u001b[1;32m/Users/kannupriya/Downloads/fall22_MAS_MARL_demo (2).ipynb Cell 1'\u001b[0m in \u001b[0;36m<cell line: 1>\u001b[0;34m()\u001b[0m\n\u001b[0;32m----> <a href='vscode-notebook-cell:/Users/kannupriya/Downloads/fall22_MAS_MARL_demo%20%282%29.ipynb#ch0000000?line=0'>1</a>\u001b[0m \u001b[39mimport\u001b[39;00m \u001b[39mnumpy\u001b[39;00m \u001b[39mas\u001b[39;00m \u001b[39mnp\u001b[39;00m\n\u001b[1;32m      <a href='vscode-notebook-cell:/Users/kannupriya/Downloads/fall22_MAS_MARL_demo%20%282%29.ipynb#ch0000000?line=1'>2</a>\u001b[0m \u001b[39mimport\u001b[39;00m \u001b[39mgym\u001b[39;00m\n\u001b[1;32m      <a href='vscode-notebook-cell:/Users/kannupriya/Downloads/fall22_MAS_MARL_demo%20%282%29.ipynb#ch0000000?line=2'>3</a>\u001b[0m \u001b[39mfrom\u001b[39;00m \u001b[39mgym\u001b[39;00m \u001b[39mimport\u001b[39;00m spaces\n",
            "\u001b[0;31mModuleNotFoundError\u001b[0m: No module named 'numpy'"
          ]
        }
      ],
      "source": [
        "import numpy as np\n",
        "import gym\n",
        "from gym import spaces\n",
        "import copy\n",
        "from copy import copy\n",
        "import matplotlib.pyplot as plt\n",
        "import random\n",
        "\n",
        "%matplotlib inline\n",
        "\n",
        "class MAGridWorld(gym.Env):\n",
        "    metadata = { 'render.modes' : ['human', 'rgb_array'] }\n",
        "        \n",
        "    def __init__(self, size, n_agents):\n",
        "        self.size = size\n",
        "        self._grid_size = (self.size, self.size)\n",
        "        self.world = np.zeros((self._grid_size))\n",
        "        self._timestep = None\n",
        "        self._max_timestep = int(self.size*4)\n",
        "        self.n_agents = n_agents\n",
        "        self.dist = int((self.size-1)/(n_agents-1))\n",
        "        self._step_cost = -0.1\n",
        "        self.observation_space = spaces.Box(low=0, high=self.size, shape=(self.size, self.size))\n",
        "        self.action_space = spaces.Discrete(5)\n",
        "        \n",
        "    def reset(self):\n",
        "        self.agent_pos = []\n",
        "        self.goal_pos = []\n",
        "        self._timestep = 0\n",
        "        self.done = [False for i in range(self.n_agents)]\n",
        "        for i in range(self.n_agents):\n",
        "            self.agent_pos.append([self.size-1, i*self.dist])\n",
        "            self.goal_pos.append([0, i*self.dist])\n",
        "        self.goal_pos.reverse()\n",
        "        observation = self.agent_pos\n",
        "        return observation\n",
        "    \n",
        "    def _compute_distance(self, x, y):\n",
        "        dist = np.abs(x[0]-y[0]) + np.abs(x[1]-y[1])\n",
        "        return dist\n",
        "    \n",
        "    def _is_inside_grid(self, pos):\n",
        "        return (0 <= pos[0] < self._grid_size[0]) and (0 <= pos[1] < self._grid_size[1])\n",
        "\n",
        "    def _is_collision(self, new_pos, agent):\n",
        "        for i in range(self.n_agents):\n",
        "            if i == agent:\n",
        "                continue\n",
        "            elif new_pos == self.agent_pos[i]:\n",
        "                return True\n",
        "            elif new_pos == self.goal_pos[i]:\n",
        "                return True\n",
        "        \n",
        "    def step(self, actions):\n",
        "        self._timestep += 1\n",
        "        old_pos = self.agent_pos.copy()\n",
        "        rewards = [0 for _ in range(self.n_agents)]       \n",
        "        \n",
        "        for i in range(self.n_agents):\n",
        "            self.update_agent_pos(i, actions[i])\n",
        "            old_dist = self._compute_distance(old_pos[i], self.goal_pos[i])\n",
        "            new_dist = self._compute_distance(self.agent_pos[i], self.goal_pos[i])\n",
        "            \n",
        "            if new_dist < old_dist:\n",
        "                rewards[i] = -0.1\n",
        "            elif new_dist > old_dist:\n",
        "                rewards[i] = -0.5\n",
        "\n",
        "            elif (new_dist == old_dist) and not self.done[i]:\n",
        "                rewards[i] = -0.5\n",
        "            \n",
        "            if (self.agent_pos[i] == self.goal_pos[i]):\n",
        "                self.done[i] = True\n",
        "                rewards[i] = 1\n",
        "            else:\n",
        "                self.done[i] = False\n",
        "                    \n",
        "               \n",
        "        if self._timestep >= self._max_timestep:\n",
        "            self.done = [True for i in range(self.n_agents)]\n",
        "            \n",
        "        observation = self.agent_pos\n",
        "        info = {}\n",
        "        return observation, rewards, self.done, info #all(done)\n",
        "    \n",
        "        \n",
        "    def update_agent_pos(self, agent, action):\n",
        "        next_pos = copy(self.agent_pos[agent])\n",
        "        if action == 0: # Down\n",
        "            next_pos[0] += 1\n",
        "        elif action == 1: # Up\n",
        "            next_pos[0] -= 1\n",
        "        elif action == 2: # Right\n",
        "            next_pos[1] += 1\n",
        "        elif action == 3: # Left\n",
        "            next_pos[1] -= 1\n",
        "        elif action == 4: # No move\n",
        "            pass\n",
        "        else:\n",
        "            raise Exception('Action is not valid')\n",
        "            \n",
        "        if self._is_inside_grid(next_pos) and not self._is_collision(next_pos, agent):\n",
        "            self.agent_pos[agent] = next_pos\n",
        "        else:\n",
        "            pass\n",
        "        \n",
        "            \n",
        "    def render(self):\n",
        "        state = np.copy(self.world)\n",
        "        for i in range(self.n_agents):\n",
        "            state[tuple(self.agent_pos[i])] = 1 - (0.1 * i)\n",
        "            state[tuple(self.goal_pos[i])] = 1 - (0.1 * i)\n",
        "        return plt.imshow(state)"
      ]
    },
    {
      "cell_type": "code",
      "execution_count": 2,
      "metadata": {
        "id": "1DbdF9BMQv47"
      },
      "outputs": [],
      "source": [
        "config = {\n",
        "    'N_AGENTS' : 8,\n",
        "    'GRID_SIZE' : 8,\n",
        "    'NUM_EPISODES': 200\n",
        "}"
      ]
    },
    {
      "cell_type": "code",
      "execution_count": 3,
      "metadata": {
        "colab": {
          "base_uri": "https://localhost:8080/",
          "height": 320
        },
        "id": "bSSRU82NQv47",
        "outputId": "a1fa7633-3116-41e1-edf0-638743772de7"
      },
      "outputs": [
        {
          "name": "stdout",
          "output_type": "stream",
          "text": [
            "state [[6, 0], [6, 1], [6, 2], [7, 3], [6, 4], [7, 4], [7, 6], [6, 7]]\n",
            "reward [-0.1, -0.1, -0.1, -0.5, -0.1, -0.1, -0.5, -0.1]\n",
            "done [False, False, False, False, False, False, False, False]\n"
          ]
        },
        {
          "data": {
            "image/png": "[encoded data removed]",
            "text/plain": [
              "<Figure size 432x288 with 1 Axes>"
            ]
          },
          "metadata": {
            "needs_background": "light"
          },
          "output_type": "display_data"
        }
      ],
      "source": [
        "if __name__ == '__main__':\n",
        "    n_agents = config['N_AGENTS']\n",
        "    size = config['GRID_SIZE']\n",
        "    env = MAGridWorld(size=size, n_agents=n_agents)\n",
        "    env.reset()\n",
        "    env.render()\n",
        "    action_n = [1, 1, 1, 0, 1, 3, 4, 1]\n",
        "    state, reward, done, _ = env.step(action_n)\n",
        "    print('state', state)\n",
        "    print('reward', reward)\n",
        "    print('done', done)\n",
        "    env.render()"
      ]
    },
    {
      "cell_type": "code",
      "execution_count": 4,
      "metadata": {
        "colab": {
          "base_uri": "https://localhost:8080/",
          "height": 338
        },
        "id": "-5fCmZYiQv48",
        "outputId": "de70bc8f-cf10-447b-dbdb-4b1137dfb3e2"
      },
      "outputs": [
        {
          "name": "stdout",
          "output_type": "stream",
          "text": [
            "state [[5, 0], [5, 1], [5, 2], [7, 3], [5, 4], [7, 4], [7, 6], [5, 7]]\n",
            "reward [-0.1, -0.1, -0.1, -0.5, -0.1, -0.5, -0.5, -0.1]\n",
            "done [False, False, False, False, False, False, False, False]\n"
          ]
        },
        {
          "data": {
            "text/plain": [
              "<matplotlib.image.AxesImage at 0x7f37f916e590>"
            ]
          },
          "execution_count": 4,
          "metadata": {},
          "output_type": "execute_result"
        },
        {
          "data": {
            "image/png": "[encoded data removed]",
            "text/plain": [
              "<Figure size 432x288 with 1 Axes>"
            ]
          },
          "metadata": {
            "needs_background": "light"
          },
          "output_type": "display_data"
        }
      ],
      "source": [
        "action_n = [1, 1, 1, 0, 1, 3, 4, 1]\n",
        "state, reward, done, _ = env.step(action_n)\n",
        "print('state', state)\n",
        "print('reward', reward)\n",
        "print('done', done)\n",
        "env.render()"
      ]
    },
    {
      "cell_type": "code",
      "execution_count": 13,
      "metadata": {
        "colab": {
          "base_uri": "https://localhost:8080/",
          "height": 1000
        },
        "id": "vjEwY4hoQv49",
        "outputId": "b35c7a4c-0be6-43b8-8a04-a9b998dae1b3"
      },
      "outputs": [
        {
          "name": "stdout",
          "output_type": "stream",
          "text": [
            "[3, 2, 0, 0, 3, 3, 0, 3]\n",
            "state [[7, 0], [7, 1], [7, 2], [7, 3], [7, 4], [7, 5], [7, 6], [7, 7]]\n",
            "reward [-0.5, -0.5, -0.5, -0.5, -0.5, -0.5, -0.5, -0.5]\n",
            "done [False, False, False, False, False, False, False, False]\n",
            "[3, 2, 1, 3, 2, 2, 1, 2]\n",
            "state [[7, 0], [7, 1], [6, 2], [7, 2], [7, 4], [7, 5], [6, 6], [7, 7]]\n",
            "reward [-0.5, -0.5, -0.1, -0.5, -0.5, -0.5, -0.1, -0.5]\n",
            "done [False, False, False, False, False, False, False, False]\n",
            "[2, 0, 1, 3, 3, 2, 3, 4]\n",
            "state [[7, 0], [7, 1], [5, 2], [7, 2], [7, 3], [7, 6], [6, 5], [7, 7]]\n",
            "reward [-0.5, -0.5, -0.1, -0.5, -0.1, -0.5, -0.1, -0.5]\n",
            "done [False, False, False, False, False, False, False, False]\n",
            "[2, 1, 4, 1, 4, 3, 1, 1]\n",
            "state [[7, 0], [6, 1], [5, 2], [6, 2], [7, 3], [7, 5], [5, 5], [6, 7]]\n",
            "reward [-0.5, -0.1, -0.5, -0.1, -0.5, -0.1, -0.1, -0.1]\n",
            "done [False, False, False, False, False, False, False, False]\n",
            "[0, 4, 1, 1, 4, 4, 3, 4]\n",
            "state [[7, 0], [6, 1], [4, 2], [5, 2], [7, 3], [7, 5], [5, 4], [6, 7]]\n",
            "reward [-0.5, -0.5, -0.1, -0.1, -0.5, -0.5, -0.1, -0.5]\n",
            "done [False, False, False, False, False, False, False, False]\n",
            "[3, 4, 4, 1, 3, 2, 0, 3]\n",
            "state [[7, 0], [6, 1], [4, 2], [5, 2], [7, 2], [7, 6], [6, 4], [6, 6]]\n",
            "reward [-0.5, -0.5, -0.5, -0.5, -0.5, -0.5, -0.5, -0.1]\n",
            "done [False, False, False, False, False, False, False, False]\n",
            "[1, 2, 2, 2, 2, 3, 2, 0]\n",
            "state [[6, 0], [6, 2], [4, 3], [5, 3], [7, 3], [7, 5], [6, 5], [7, 6]]\n",
            "reward [-0.1, -0.1, -0.1, -0.1, -0.1, -0.1, -0.5, -0.5]\n",
            "done [False, False, False, False, False, False, False, False]\n",
            "[1, 2, 2, 2, 3, 1, 3, 3]\n",
            "state [[5, 0], [6, 3], [4, 4], [5, 4], [7, 2], [7, 5], [6, 4], [7, 6]]\n",
            "reward [-0.1, -0.1, -0.1, -0.1, -0.5, -0.5, -0.1, -0.5]\n",
            "done [False, False, False, False, False, False, False, False]\n",
            "[4, 4, 1, 0, 4, 2, 2, 2]\n",
            "state [[5, 0], [6, 3], [3, 4], [5, 4], [7, 2], [7, 5], [6, 5], [7, 7]]\n",
            "reward [-0.5, -0.5, -0.1, -0.5, -0.5, -0.5, -0.5, -0.5]\n",
            "done [False, False, False, False, False, False, False, False]\n",
            "[2, 1, 4, 1, 1, 3, 0, 1]\n",
            "state [[5, 1], [5, 3], [3, 4], [4, 4], [6, 2], [7, 4], [7, 5], [6, 7]]\n",
            "reward [-0.1, -0.1, -0.5, -0.1, -0.1, -0.1, -0.5, -0.1]\n",
            "done [False, False, False, False, False, False, False, False]\n",
            "[2, 2, 4, 3, 4, 0, 3, 0]\n",
            "state [[5, 2], [5, 4], [3, 4], [4, 3], [6, 2], [7, 4], [7, 5], [7, 7]]\n",
            "reward [-0.1, -0.1, -0.5, -0.5, -0.5, -0.5, -0.5, -0.5]\n",
            "done [False, False, False, False, False, False, False, False]\n",
            "[2, 4, 4, 3, 1, 2, 2, 0]\n",
            "state [[5, 3], [5, 4], [3, 4], [4, 2], [5, 2], [7, 4], [7, 6], [7, 7]]\n",
            "reward [-0.1, -0.5, -0.5, -0.5, -0.1, -0.5, -0.5, -0.5]\n",
            "done [False, False, False, False, False, False, False, False]\n",
            "[0, 1, 4, 4, 3, 0, 2, 0]\n",
            "state [[6, 3], [4, 4], [3, 4], [4, 2], [5, 1], [7, 4], [7, 6], [7, 7]]\n",
            "reward [-0.5, -0.1, -0.5, -0.5, -0.5, -0.5, -0.5, -0.5]\n",
            "done [False, False, False, False, False, False, False, False]\n",
            "[2, 1, 2, 1, 1, 0, 1, 2]\n",
            "state [[6, 4], [4, 4], [3, 5], [3, 2], [4, 1], [7, 4], [6, 6], [7, 7]]\n",
            "reward [-0.1, -0.5, -0.1, -0.1, -0.1, -0.5, -0.1, -0.5]\n",
            "done [False, False, False, False, False, False, False, False]\n",
            "[0, 1, 1, 1, 3, 2, 2, 4]\n",
            "state [[6, 4], [3, 4], [2, 5], [2, 2], [4, 0], [7, 5], [6, 7], [7, 7]]\n",
            "reward [-0.5, -0.1, -0.1, -0.1, -0.5, -0.5, -0.5, -0.5]\n",
            "done [False, False, False, False, False, False, False, False]\n",
            "[3, 3, 1, 1, 2, 3, 4, 1]\n",
            "state [[6, 3], [3, 3], [1, 5], [1, 2], [4, 1], [7, 4], [6, 7], [7, 7]]\n",
            "reward [-0.5, -0.5, -0.1, -0.1, -0.1, -0.1, -0.5, -0.5]\n",
            "done [False, False, False, False, False, False, False, False]\n",
            "[3, 1, 4, 3, 4, 0, 2, 2]\n",
            "state [[6, 2], [2, 3], [1, 5], [1, 1], [4, 1], [7, 4], [6, 7], [7, 7]]\n",
            "reward [-0.5, -0.1, -0.5, -0.5, -0.5, -0.5, -0.5, -0.5]\n",
            "done [False, False, False, False, False, False, False, False]\n",
            "[4, 4, 1, 4, 1, 0, 3, 2]\n",
            "state [[6, 2], [2, 3], [0, 5], [1, 1], [3, 1], [7, 4], [6, 6], [7, 7]]\n",
            "reward [-0.5, -0.5, 1, -0.5, -0.1, -0.5, -0.1, -0.5]\n",
            "done [False, False, True, False, False, False, False, False]\n",
            "[0, 1, 4, 4, 4, 2, 2, 4]\n",
            "state [[7, 2], [1, 3], [0, 5], [1, 1], [3, 1], [7, 5], [6, 7], [7, 7]]\n",
            "reward [-0.5, -0.1, 1, -0.5, -0.5, -0.5, -0.5, -0.5]\n",
            "done [False, False, True, False, False, False, False, False]\n",
            "[2, 0, 1, 0, 4, 0, 4, 1]\n",
            "state [[7, 3], [2, 3], [0, 5], [2, 1], [3, 1], [7, 5], [6, 7], [7, 7]]\n",
            "reward [-0.1, -0.5, 1, -0.5, -0.5, -0.5, -0.5, -0.5]\n",
            "done [False, False, True, False, False, False, False, False]\n",
            "[1, 2, 1, 1, 4, 0, 4, 1]\n",
            "state [[6, 3], [2, 4], [0, 5], [1, 1], [3, 1], [7, 5], [6, 7], [7, 7]]\n",
            "reward [-0.1, -0.1, 1, -0.1, -0.5, -0.5, -0.5, -0.5]\n",
            "done [False, False, True, False, False, False, False, False]\n",
            "[4, 2, 2, 0, 3, 2, 0, 4]\n",
            "state [[6, 3], [2, 5], [0, 5], [2, 1], [3, 0], [7, 6], [6, 7], [7, 7]]\n",
            "reward [-0.5, -0.1, 1, -0.5, -0.5, -0.5, -0.5, -0.5]\n",
            "done [False, False, True, False, False, False, False, False]\n",
            "[1, 4, 4, 1, 0, 3, 4, 2]\n",
            "state [[5, 3], [2, 5], [0, 5], [1, 1], [4, 0], [7, 5], [6, 7], [7, 7]]\n",
            "reward [-0.1, -0.5, 1, -0.1, -0.5, -0.1, -0.5, -0.5]\n",
            "done [False, False, True, False, False, False, False, False]\n",
            "[2, 0, 3, 3, 4, 1, 1, 4]\n",
            "state [[5, 4], [3, 5], [0, 5], [1, 0], [4, 0], [6, 5], [5, 7], [7, 7]]\n",
            "reward [-0.1, -0.5, 1, -0.5, -0.5, -0.1, -0.1, -0.5]\n",
            "done [False, False, True, False, False, False, False, False]\n",
            "[1, 3, 2, 1, 2, 2, 0, 1]\n",
            "state [[4, 4], [3, 4], [0, 5], [1, 0], [4, 1], [6, 6], [6, 7], [7, 7]]\n",
            "reward [-0.1, -0.5, 1, -0.5, -0.1, -0.5, -0.5, -0.5]\n",
            "done [False, False, True, False, False, False, False, False]\n",
            "[4, 0, 4, 1, 0, 3, 0, 1]\n",
            "state [[4, 4], [3, 4], [0, 5], [1, 0], [5, 1], [6, 5], [6, 7], [7, 7]]\n",
            "reward [-0.5, -0.5, 1, -0.5, -0.5, -0.1, -0.5, -0.5]\n",
            "done [False, False, True, False, False, False, False, False]\n",
            "[3, 4, 4, 3, 4, 3, 1, 0]\n",
            "state [[4, 3], [3, 4], [0, 5], [1, 0], [5, 1], [6, 4], [5, 7], [7, 7]]\n",
            "reward [-0.5, -0.5, 1, -0.5, -0.5, -0.1, -0.1, -0.5]\n",
            "done [False, False, True, False, False, False, False, False]\n",
            "[4, 0, 0, 1, 2, 3, 0, 1]\n",
            "state [[4, 3], [4, 4], [1, 5], [1, 0], [5, 2], [6, 3], [6, 7], [7, 7]]\n",
            "reward [-0.5, -0.5, -0.5, -0.5, -0.1, -0.1, -0.5, -0.5]\n",
            "done [False, False, False, False, False, False, False, False]\n",
            "[0, 1, 1, 0, 4, 1, 0, 2]\n",
            "state [[5, 3], [3, 4], [0, 5], [2, 0], [5, 2], [6, 3], [6, 7], [7, 7]]\n",
            "reward [-0.5, -0.1, 1, -0.5, -0.5, -0.5, -0.5, -0.5]\n",
            "done [False, False, True, False, False, False, False, False]\n",
            "[2, 4, 4, 2, 3, 2, 4, 3]\n",
            "state [[5, 4], [3, 4], [0, 5], [2, 1], [5, 1], [6, 4], [6, 7], [7, 6]]\n",
            "reward [-0.1, -0.5, 1, -0.1, -0.5, -0.5, -0.5, -0.1]\n",
            "done [False, False, True, False, False, False, False, False]\n",
            "[4, 3, 1, 1, 4, 1, 2, 0]\n",
            "state [[5, 4], [3, 3], [0, 5], [1, 1], [5, 1], [6, 4], [6, 7], [7, 6]]\n",
            "reward [-0.5, -0.5, 1, -0.1, -0.5, -0.5, -0.5, -0.5]\n",
            "done [False, False, True, False, False, False, False, False]\n",
            "[0, 2, 2, 1, 1, 3, 3, 2]\n",
            "state [[5, 4], [3, 4], [0, 5], [1, 1], [4, 1], [6, 3], [6, 6], [7, 7]]\n",
            "reward [-0.5, -0.1, 1, -0.5, -0.1, -0.1, -0.1, -0.5]\n",
            "done [True, True, True, True, True, True, True, True]\n"
          ]
        },
        {
          "data": {
            "image/png": "[encoded data removed]",
            "text/plain": [
              "<Figure size 432x288 with 1 Axes>"
            ]
          },
          "metadata": {
            "needs_background": "light"
          },
          "output_type": "display_data"
        }
      ],
      "source": [
        "if __name__ == '__main__':\n",
        "    n_agents = config['N_AGENTS']\n",
        "    size = config['GRID_SIZE']\n",
        "    env = MAGridWorld(size=size, n_agents=n_agents)\n",
        "    env.reset()\n",
        "    env.render()\n",
        "    while(not all(env.done)):   \n",
        "      action_n = [np.random.choice(env.action_space.n), np.random.choice(env.action_space.n), np.random.choice(env.action_space.n), np.random.choice(env.action_space.n), np.random.choice(env.action_space.n), np.random.choice(env.action_space.n), np.random.choice(env.action_space.n), np.random.choice(env.action_space.n)]\n",
        "      state, reward, done, _ = env.step(action_n)\n",
        "      print(action_n)\n",
        "      print('state', state)\n",
        "      print('reward', reward)\n",
        "      print('done', done)\n",
        "      env.render()\n"
      ]
    }
  ],
  "metadata": {
    "colab": {
      "provenance": []
    },
    "kernelspec": {
      "display_name": "Python 3",
      "language": "python",
      "name": "python3"
    },
    "language_info": {
      "codemirror_mode": {
        "name": "ipython",
        "version": 3
      },
      "file_extension": ".py",
      "mimetype": "text/x-python",
      "name": "python",
      "nbconvert_exporter": "python",
      "pygments_lexer": "ipython3",
      "version": "3.10.4"
    }
  },
  "nbformat": 4,
  "nbformat_minor": 0
}
